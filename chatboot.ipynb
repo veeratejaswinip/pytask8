{
 "cells": [
  {
   "cell_type": "code",
   "execution_count": null,
   "id": "073c2855-eaeb-4c4d-a114-7b8a83500be9",
   "metadata": {},
   "outputs": [
    {
     "name": "stdout",
     "output_type": "stream",
     "text": [
      "Hello! I'm ChatBot. Type 'exit' to end the chat.\n"
     ]
    }
   ],
   "source": [
    "def simple_chatbot():\n",
    "    print(\"Hello! I'm ChatBot. Type 'exit' to end the chat.\")\n",
    "    while True:\n",
    "        user_input = input(\"You: \").lower()\n",
    "\n",
    "        if user_input == \"hello\":\n",
    "            print(\"ChatBot: Hi there! How can I help you?\")\n",
    "        elif user_input == \"how are you\":\n",
    "            print(\"ChatBot: I'm just a bunch of code, but I'm doing great!\")\n",
    "        elif user_input == \"what is your name\":\n",
    "            print(\"ChatBot: I'm ChatBot, your friendly assistant.\")\n",
    "        elif user_input == \"bye\":\n",
    "            print(\"ChatBot: Goodbye! Have a great day!\")\n",
    "            break\n",
    "        elif user_input == \"exit\":\n",
    "            print(\"ChatBot: Chat ended.\")\n",
    "            break\n",
    "        else:\n",
    "            print(\"ChatBot: Sorry, I didn't understand that.\")\n",
    "\n",
    "# Run the chatbot\n",
    "simple_chatbot()\n"
   ]
  },
  {
   "cell_type": "code",
   "execution_count": 1,
   "id": "31b48e3b-942f-4e3d-b1fd-64ab86ad77f8",
   "metadata": {},
   "outputs": [
    {
     "name": "stdout",
     "output_type": "stream",
     "text": [
      "Welcome to FoodBot! Type 'menu' to see our offerings or 'exit' to leave.\n"
     ]
    },
    {
     "name": "stdin",
     "output_type": "stream",
     "text": [
      "You:  hello\n"
     ]
    },
    {
     "name": "stdout",
     "output_type": "stream",
     "text": [
      "FoodBot: Hi there! Hungry today?\n"
     ]
    },
    {
     "name": "stdin",
     "output_type": "stream",
     "text": [
      "You:  menu\n"
     ]
    },
    {
     "name": "stdout",
     "output_type": "stream",
     "text": [
      "FoodBot: Here's our menu:\n",
      "- pizza\n",
      "- burger\n",
      "- pasta\n",
      "- salad\n"
     ]
    },
    {
     "name": "stdin",
     "output_type": "stream",
     "text": [
      "You:  pizza\n"
     ]
    },
    {
     "name": "stdout",
     "output_type": "stream",
     "text": [
      "FoodBot: A classic choice! Would you like cheese or pepperoni?\n"
     ]
    },
    {
     "name": "stdin",
     "output_type": "stream",
     "text": [
      "You:  dosa\n"
     ]
    },
    {
     "name": "stdout",
     "output_type": "stream",
     "text": [
      "FoodBot: Sorry, I didn't catch that. Try typing 'menu' to see options.\n"
     ]
    },
    {
     "name": "stdin",
     "output_type": "stream",
     "text": [
      "You:  bye\n"
     ]
    },
    {
     "name": "stdout",
     "output_type": "stream",
     "text": [
      "FoodBot: Thanks for visiting! Enjoy your meal!\n"
     ]
    }
   ],
   "source": [
    "def food_chatbot():\n",
    "    print(\"Welcome to FoodBot! Type 'menu' to see our offerings or 'exit' to leave.\")\n",
    "    while True:\n",
    "        user_input = input(\"You: \").lower()\n",
    "\n",
    "        if user_input == \"hello\":\n",
    "            print(\"FoodBot: Hi there! Hungry today?\")\n",
    "        elif user_input == \"menu\":\n",
    "            print(\"FoodBot: Here's our menu:\\n- pizza\\n- burger\\n- pasta\\n- salad\")\n",
    "        elif user_input == \"pizza\":\n",
    "            print(\"FoodBot: A classic choice! Would you like cheese or pepperoni?\")\n",
    "        elif user_input == \"burger\":\n",
    "            print(\"FoodBot: Juicy and delicious! Veg or chicken?\")\n",
    "        elif user_input == \"pasta\":\n",
    "            print(\"FoodBot: Creamy Alfredo or spicy Arrabbiata?\")\n",
    "        elif user_input == \"salad\":\n",
    "            print(\"FoodBot: Fresh and healthy! Caesar or garden salad?\")\n",
    "        elif user_input == \"bye\" or user_input == \"exit\":\n",
    "            print(\"FoodBot: Thanks for visiting! Enjoy your meal!\")\n",
    "            break\n",
    "        else:\n",
    "            print(\"FoodBot: Sorry, I didn't catch that. Try typing 'menu' to see options.\")\n",
    "\n",
    "# Run the chatbot\n",
    "food_chatbot()\n"
   ]
  },
  {
   "cell_type": "code",
   "execution_count": null,
   "id": "ff91fcfd-043d-497d-8ecb-4eba728de4c8",
   "metadata": {},
   "outputs": [],
   "source": []
  }
 ],
 "metadata": {
  "kernelspec": {
   "display_name": "Python 3 (ipykernel)",
   "language": "python",
   "name": "python3"
  },
  "language_info": {
   "codemirror_mode": {
    "name": "ipython",
    "version": 3
   },
   "file_extension": ".py",
   "mimetype": "text/x-python",
   "name": "python",
   "nbconvert_exporter": "python",
   "pygments_lexer": "ipython3",
   "version": "3.12.4"
  }
 },
 "nbformat": 4,
 "nbformat_minor": 5
}
